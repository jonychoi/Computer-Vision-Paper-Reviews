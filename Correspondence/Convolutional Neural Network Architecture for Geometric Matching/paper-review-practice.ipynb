{
 "cells": [
  {
   "cell_type": "markdown",
   "metadata": {},
   "source": [
    "# **Convolutional neural network architecture for geometric matching**"
   ]
  },
  {
   "cell_type": "markdown",
   "metadata": {},
   "source": [
    "### *Abstract*\n",
    "\n",
    "*We address the problem of determining correspondences\n",
    "between ***two images in agreement with a geometric model***\n",
    "such as an affine or thin-plate spline transformation, and\n",
    "estimating its parameters.*\n",
    "\n",
    "### *3 Contributions*\n",
    "\n",
    "1. We propose a convolutional neural network architecture for geometric matching\n",
    "2. Demonstrate that the network parameters **can be trained from synthetically generated imagery without the need for manual annotation** and\n",
    "that our matching layer significantly increases generalization capabilities to never seen before images.\n",
    "3. Show that the same model can perform **both instance-level\n",
    "and category-level matching giving state-of-the-art results**\n",
    "on the challenging Proposal Flow dataset."
   ]
  },
  {
   "cell_type": "markdown",
   "metadata": {},
   "source": []
  }
 ],
 "metadata": {
  "language_info": {
   "name": "python"
  },
  "orig_nbformat": 4
 },
 "nbformat": 4,
 "nbformat_minor": 2
}
