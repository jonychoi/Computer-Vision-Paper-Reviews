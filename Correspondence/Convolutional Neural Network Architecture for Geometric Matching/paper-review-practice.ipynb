{
 "cells": [
  {
   "cell_type": "markdown",
   "metadata": {},
   "source": [
    "# **Convolutional neural network architecture for geometric matching**\n",
    "\n",
    "**Authors: Ignacio Rocco1,2, Relja Arandjelovic´1,2,∗, Josef Sivic1,2,3**\n",
    "\n",
    "**1 DI ENS / 2 INRIA / 3 CIIRC**\n",
    "\n",
    "**Unofficial Github Code**: https://github.com/ignacio-rocco/cnngeometric_pytorch\n",
    "\n",
    "---\n",
    "\n",
    "**Edited By Su Hyung Choi (Key Summary & Code Practice)**\n",
    "\n",
    "If you have any issues on this scripts, please PR to the repository below.\n",
    "\n",
    "**[Github: @JonyChoi - Computer Vision Paper Reviews]** https://github.com/jonychoi/Computer-Vision-Paper-Reviews\n",
    "\n",
    "Edited March 21 2022\n",
    "\n",
    "---"
   ]
  },
  {
   "cell_type": "markdown",
   "metadata": {},
   "source": [
    "### *Abstract*\n",
    "\n",
    "*We address the problem of determining correspondences\n",
    "between ***two images in agreement with a geometric model***\n",
    "such as an affine or thin-plate spline transformation, and\n",
    "estimating its parameters.*\n",
    "\n",
    "### *3 Contributions*\n",
    "\n",
    "1. We propose a convolutional neural network architecture for geometric matching\n",
    "2. Demonstrate that the network parameters **can be trained from synthetically generated imagery without the need for manual annotation** and\n",
    "that our matching layer significantly increases generalization capabilities to never seen before images.\n",
    "3. Show that the same model can perform **both instance-level\n",
    "and category-level matching giving state-of-the-art results**\n",
    "on the challenging Proposal Flow dataset."
   ]
  },
  {
   "cell_type": "markdown",
   "metadata": {},
   "source": []
  }
 ],
 "metadata": {
  "interpreter": {
   "hash": "3efb3a3e09a38f93b1d9bfa4b9b8ce66a167f6ada77b64bc003d7d6d298d81d5"
  },
  "kernelspec": {
   "display_name": "Python 3.9.7 ('buddhalight')",
   "language": "python",
   "name": "python3"
  },
  "language_info": {
   "name": "python",
   "version": "3.9.7"
  },
  "orig_nbformat": 4
 },
 "nbformat": 4,
 "nbformat_minor": 2
}
