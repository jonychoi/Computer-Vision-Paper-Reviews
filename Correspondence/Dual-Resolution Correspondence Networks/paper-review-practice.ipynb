{
 "cells": [
  {
   "cell_type": "markdown",
   "metadata": {},
   "source": [
    "# **Dual-Resolution Correspondence Networks**\n",
    "\n",
    "**Authors: Xinghui Li1, Kai Han2, Shuda Li1, and Victor Prisacariu1**\n",
    "\n",
    "**1 Active Vision Lab, University of Oxford / 2 Visual Geometry Group, University of Oxford**\n",
    "\n",
    "**1 {xinghui, shuda, victor}@robots.ox.ac.uk / 2 khan@robots.ox.ac.uk**\n",
    "\n",
    "**[Official Github Code](https://github.com/ActiveVisionLab/DualRC-Net)** / **[Project Page](https://dualrcnet.active.vision/)** / **[Pdf](https://dualrcnet.active.vision/asset/DualRC_Net.pdf)**\n",
    "\n",
    "---\n",
    "\n",
    "**Edited By Su Hyung Choi (Key Summary & Code Practice)**\n",
    "\n",
    "If you have any issues on this scripts, please PR to the repository below.\n",
    "\n",
    "**[Github: @JonyChoi - Computer Vision Paper Reviews](https://github.com/jonychoi/Computer-Vision-Paper-Reviews)**\n",
    "\n",
    "Edited March 21 2022\n",
    "\n",
    "---"
   ]
  }
 ],
 "metadata": {
  "interpreter": {
   "hash": "3efb3a3e09a38f93b1d9bfa4b9b8ce66a167f6ada77b64bc003d7d6d298d81d5"
  },
  "kernelspec": {
   "display_name": "Python 3.9.7 ('buddhalight')",
   "language": "python",
   "name": "python3"
  },
  "language_info": {
   "name": "python",
   "version": "3.9.7"
  },
  "orig_nbformat": 4
 },
 "nbformat": 4,
 "nbformat_minor": 2
}
