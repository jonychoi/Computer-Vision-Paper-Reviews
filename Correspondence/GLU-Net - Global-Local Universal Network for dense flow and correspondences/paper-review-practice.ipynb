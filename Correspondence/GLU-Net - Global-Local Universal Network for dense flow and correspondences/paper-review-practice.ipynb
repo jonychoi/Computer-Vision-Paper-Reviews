{
 "cells": [
  {
   "cell_type": "markdown",
   "metadata": {},
   "source": [
    "# **GLU-Net: Global-Local Universal Network for Dense Flow and Correspondences**\n",
    "\n",
    "**Authors: Prune Truong, Martin Danelljan, Radu Timofte**\n",
    "\n",
    "**Computer Vision Lab, D-ITET, ETH Zurich, Switzerland**\n",
    "\n",
    "**{truongp,martin.danelljan,radu.timofte}@ethz.ch**\n",
    "\n",
    "**[Official Github Code](https://github.com/PruneTruong/GLU-Net)** / **[Project Page](https://prunetruong.com/research/glu-net)** / **[Pdf](https://arxiv.org/abs/1912.05524)**\n",
    "\n",
    "---\n",
    "\n",
    "**Edited By Su Hyung Choi (Key Summary & Code Practice)**\n",
    "\n",
    "If you have any issues on this scripts, please PR to the repository below.\n",
    "\n",
    "**[Github: @JonyChoi - Computer Vision Paper Reviews](https://github.com/jonychoi/Computer-Vision-Paper-Reviews)**\n",
    "\n",
    "Edited March 21 2022\n",
    "\n",
    "---"
   ]
  }
 ],
 "metadata": {
  "interpreter": {
   "hash": "3efb3a3e09a38f93b1d9bfa4b9b8ce66a167f6ada77b64bc003d7d6d298d81d5"
  },
  "kernelspec": {
   "display_name": "Python 3.9.7 ('buddhalight')",
   "language": "python",
   "name": "python3"
  },
  "language_info": {
   "name": "python",
   "version": "3.9.7"
  },
  "orig_nbformat": 4
 },
 "nbformat": 4,
 "nbformat_minor": 2
}
