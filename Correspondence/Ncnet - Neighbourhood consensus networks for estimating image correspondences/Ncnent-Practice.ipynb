{
 "cells": [
  {
   "cell_type": "markdown",
   "metadata": {},
   "source": [
    "# **Neighbourhood Consensus Networks**\n",
    "\n",
    "**Authors: Ignacio Rocco†, Mircea Cimpoi‡, Relja Arandjelovic´\n",
    "§, Akihiko Torii∗,\n",
    "Tomas Pajdla‡, Josef Sivic†,‡**\n",
    "\n",
    "**†Inria / ‡CIIRC, CTU in Prague / §DeepMind / ∗Tokyo Institute of Technology**\n",
    "\n",
    "**[Official Github Code](https://github.com/ignacio-rocco/ncnet)** / **[Project Page](https://www.di.ens.fr/willow/research/ncnet/)** / **[Pdf](https://arxiv.org/abs/1810.10510)**\n",
    "\n",
    "---\n",
    "\n",
    "**Edited By Su Hyung Choi (Key Summary & Code Practice)**\n",
    "\n",
    "If you have any issues on this scripts, please PR to the repository below.\n",
    "\n",
    "**[Github: @JonyChoi - Computer Vision Paper Reviews](https://github.com/jonychoi/Computer-Vision-Paper-Reviews)**\n",
    "\n",
    "Edited April 14 2022\n",
    "\n",
    "---"
   ]
  },
  {
   "cell_type": "markdown",
   "metadata": {},
   "source": [
    "## **Practice For Ncnet (Neighbourhood Consensus Network)**\n",
    "\n",
    "This is a **code practice for the core part** of implementation of the paper \"Neighbourhood Consensus Networks\" by I. Rocco, M. Cimpoi, R. Arandjelović, A. Torii, T. Pajdla and J. Sivic.\n",
    "For more information check out the project [website](https://www.di.ens.fr/willow/research/ncnet/) and the paper on [arXiv](https://arxiv.org/abs/1810.10510).\n",
    "\n",
    "**Reference From [ignacio-rocco/ncnet](https://github.com/ignacio-rocco/ncnet)**\n",
    "\n",
    "### **Index**\n",
    "\n",
    "- Overview\n",
    "- Part 1. Model Implementation\n",
    "- Part 2. Dataset\n",
    "- Part 3. Training"
   ]
  },
  {
   "cell_type": "markdown",
   "metadata": {},
   "source": [
    "### **1. Overview**\n",
    "\n",
    "![](https://camo.githubusercontent.com/e454c9717acea8b28287cf5b82a7c2a275302ec8634a620742311cdd22db87da/68747470733a2f2f7777772e64692e656e732e66722f77696c6c6f772f72657365617263682f6e636e65742f696d616765732f7465617365722e706e67)"
   ]
  },
  {
   "cell_type": "markdown",
   "metadata": {},
   "source": [
    "### **Part 1. Model Implementation**\n",
    "\n",
    "At this section, we are going to review about the Core of the Ncnet, the ***4D Convolutional Neural Network***, which enables the Ncnet injecting the ***Neighbourhood Consensus*** from the correlation volumes which is the aggregation of the 4 dimensional tensor from the pair of images \n",
    "\n",
    "You can find the directory of the original sources here ***[ignacio-rocco/ncnet/lib/](https://github.com/ignacio-rocco/ncnet/tree/master/lib)***\n",
    "\n",
    "---"
   ]
  },
  {
   "cell_type": "markdown",
   "metadata": {},
   "source": [
    "### **Part 2. Dataset**"
   ]
  },
  {
   "cell_type": "markdown",
   "metadata": {},
   "source": [
    "### **Part 3. Training**"
   ]
  }
 ],
 "metadata": {
  "interpreter": {
   "hash": "3efb3a3e09a38f93b1d9bfa4b9b8ce66a167f6ada77b64bc003d7d6d298d81d5"
  },
  "kernelspec": {
   "display_name": "Python 3.9.7 ('buddhalight')",
   "language": "python",
   "name": "python3"
  },
  "language_info": {
   "name": "python",
   "version": "3.9.7"
  },
  "orig_nbformat": 4
 },
 "nbformat": 4,
 "nbformat_minor": 2
}
