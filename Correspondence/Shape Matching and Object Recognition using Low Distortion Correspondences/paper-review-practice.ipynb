{
 "cells": [
  {
   "cell_type": "markdown",
   "metadata": {},
   "source": [
    "# **Shape Matching and Object Recognition using Low Distortion Correspondences**\n",
    "\n",
    "**Authors: Alexander C. Berg Tamara L. Berg Jitendra Malik**\n",
    "\n",
    "**Department of Electrical Engineering and Computer Science U.C. Berkeley**\n",
    "\n",
    "**{aberg,millert,malik}@eecs.berkeley.edu**\n",
    "\n",
    "**[Pdf](https://ieeexplore.ieee.org/document/1467245)**\n",
    "\n",
    "---\n",
    "\n",
    "**Edited By Su Hyung Choi (Key Summary & Code Practice)**\n",
    "\n",
    "If you have any issues on this scripts, please PR to the repository below.\n",
    "\n",
    "**[Github: @JonyChoi - Computer Vision Paper Reviews](https://github.com/jonychoi/Computer-Vision-Paper-Reviews)**\n",
    "\n",
    "Edited March 21 2022\n",
    "\n",
    "---"
   ]
  }
 ],
 "metadata": {
  "interpreter": {
   "hash": "3efb3a3e09a38f93b1d9bfa4b9b8ce66a167f6ada77b64bc003d7d6d298d81d5"
  },
  "kernelspec": {
   "display_name": "Python 3.9.7 ('buddhalight')",
   "language": "python",
   "name": "python3"
  },
  "language_info": {
   "name": "python",
   "version": "3.9.7"
  },
  "orig_nbformat": 4
 },
 "nbformat": 4,
 "nbformat_minor": 2
}
