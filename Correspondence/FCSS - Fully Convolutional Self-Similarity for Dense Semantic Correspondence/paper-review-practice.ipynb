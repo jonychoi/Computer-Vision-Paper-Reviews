{
 "cells": [
  {
   "cell_type": "markdown",
   "metadata": {},
   "source": [
    "# **FCSS: Fully Convolutional Self-Similarity for Dense Semantic Correspondence**\n",
    "\n",
    "**Authors: Seungryong Kim1, Dongbo Min2, Bumsub Ham1, Sangryul Jeon1, Stephen Lin3, Kwanghoon Sohn1**\n",
    "\n",
    "**1 Yonsei University / 2 Chungnam National University / 3 Microsoft Research**\n",
    "\n",
    "**1 {srkim89,mimo,cheonjsr,khsohn}@yonsei.ac.kr / 2 dbmin@cnu.ac.kr / 3 stevelin@microsoft.com**\n",
    "\n",
    "**[Official Github Code](https://github.com/seungryong/FCSS)** / **[Project Page](https://seungryong.github.io/FCSS/)** / **[Pdf](https://seungryong.github.io/FCSS/FCSSdescriptor_CVPR2017.pdf)**\n",
    "\n",
    "---\n",
    "\n",
    "**Edited By Su Hyung Choi (Key Summary & Code Practice)**\n",
    "\n",
    "If you have any issues on this scripts, please PR to the repository below.\n",
    "\n",
    "**[Github: @JonyChoi - Computer Vision Paper Reviews](https://github.com/jonychoi/Computer-Vision-Paper-Reviews)**\n",
    "\n",
    "Edited March 21 2022\n",
    "\n",
    "---"
   ]
  }
 ],
 "metadata": {
  "interpreter": {
   "hash": "3efb3a3e09a38f93b1d9bfa4b9b8ce66a167f6ada77b64bc003d7d6d298d81d5"
  },
  "kernelspec": {
   "display_name": "Python 3.9.7 ('buddhalight')",
   "language": "python",
   "name": "python3"
  },
  "language_info": {
   "name": "python",
   "version": "3.9.7"
  },
  "orig_nbformat": 4
 },
 "nbformat": 4,
 "nbformat_minor": 2
}
