{
 "cells": [
  {
   "cell_type": "markdown",
   "metadata": {},
   "source": [
    "# **Universal Style Transfer via Feature Transforms**\n",
    "\n",
    "**Authors: Yijun Li\n",
    "(UC Merced -\n",
    "yli62@ucmerced.edu),\n",
    "Chen Fang\n",
    "(Adobe Research - \n",
    "cfang@adobe.com)\n",
    "Jimei Yang\n",
    "(Adobe Research -\n",
    "jimyang@adobe.com)\n",
    "Zhaowen Wang\n",
    "(Adobe Research - \n",
    "zhawang@adobe.com)\n",
    "Xin Lu\n",
    "(Adobe Research - \n",
    "xinl@adobe.com)\n",
    "Ming-Hsuan Yang\n",
    "(UC Merced, NVIDIA Research - \n",
    "mhyang@ucmerced.edu)**\n",
    "\n",
    "**Original Paper**: https://arxiv.org/pdf/1705.08086.pdf\n",
    "\n",
    "**Official Github**: https://github.com/Yijunmaverick/UniversalStyleTransfer\n",
    "\n",
    "---\n",
    "\n",
    "**Edited By Su Hyung Choi (Key Summary & Code Practice)**\n",
    "\n",
    "If you have any issues on this scripts, please PR to the repository below.\n",
    "\n",
    "**[Github: @JonyChoi - Computer Vision Paper Reviews]** https://github.com/jonychoi/Computer-Vision-Paper-Reviews\n",
    "\n",
    "Edited Jan 16 2022\n",
    "\n",
    "---"
   ]
  },
  {
   "cell_type": "markdown",
   "metadata": {},
   "source": []
  }
 ],
 "metadata": {
  "language_info": {
   "name": "python"
  },
  "orig_nbformat": 4
 },
 "nbformat": 4,
 "nbformat_minor": 2
}
