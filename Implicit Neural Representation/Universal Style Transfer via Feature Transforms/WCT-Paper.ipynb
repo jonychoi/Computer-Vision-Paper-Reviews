{
 "cells": [
  {
   "cell_type": "markdown",
   "metadata": {},
   "source": [
    "# **Universal Style Transfer via Feature Transforms**\n",
    "\n",
    "**Authors: Yijun Li\n",
    "(UC Merced -\n",
    "yli62@ucmerced.edu),\n",
    "Chen Fang\n",
    "(Adobe Research - \n",
    "cfang@adobe.com)\n",
    "Jimei Yang\n",
    "(Adobe Research -\n",
    "jimyang@adobe.com)\n",
    "Zhaowen Wang\n",
    "(Adobe Research - \n",
    "zhawang@adobe.com)\n",
    "Xin Lu\n",
    "(Adobe Research - \n",
    "xinl@adobe.com)\n",
    "Ming-Hsuan Yang\n",
    "(UC Merced, NVIDIA Research - \n",
    "mhyang@ucmerced.edu)**\n",
    "\n",
    "**Original Paper**: https://arxiv.org/pdf/1705.08086.pdf\n",
    "\n",
    "**Official Github**: https://github.com/Yijunmaverick/UniversalStyleTransfer\n",
    "\n",
    "---\n",
    "\n",
    "**Edited By Su Hyung Choi (Key Summary & Code Practice)**\n",
    "\n",
    "If you have any issues on this scripts, please PR to the repository below.\n",
    "\n",
    "**[Github: @JonyChoi - Computer Vision Paper Reviews]** https://github.com/jonychoi/Computer-Vision-Paper-Reviews\n",
    "\n",
    "Edited Jan 16 2022\n",
    "\n",
    "---"
   ]
  },
  {
   "cell_type": "markdown",
   "metadata": {},
   "source": [
    "### **Abstract**\n",
    "<p>\n",
    "Universal style transfer aims to transfer arbitrary visual styles to content images.\n",
    "Existing feed-forward based methods, while enjoying the inference efficiency, are\n",
    "mainly limited by inability of generalizing to unseen styles or compromised visual\n",
    "quality. In this paper, we present a simple yet effective method that tackles these\n",
    "limitations without training on any pre-defined styles. The key ingredient of our\n",
    "method is a pair of feature transforms, whitening and coloring, that are embedded\n",
    "to an image reconstruction network. The whitening and coloring transforms reflect\n",
    "a direct matching of feature covariance of the content image to a given style\n",
    "image, which shares similar spirits with the optimization of Gram matrix based\n",
    "cost in neural style transfer. We demonstrate the effectiveness of our algorithm by\n",
    "generating high-quality stylized images with comparisons to a number of recent\n",
    "methods. We also analyze our method by visualizing the whitened features and\n",
    "synthesizing textures via simple feature coloring.\n",
    "</p>"
   ]
  }
 ],
 "metadata": {
  "interpreter": {
   "hash": "3efb3a3e09a38f93b1d9bfa4b9b8ce66a167f6ada77b64bc003d7d6d298d81d5"
  },
  "kernelspec": {
   "display_name": "Python 3.9.7 64-bit ('buddhalight': conda)",
   "language": "python",
   "name": "python3"
  },
  "language_info": {
   "name": "python",
   "version": "3.9.7"
  },
  "orig_nbformat": 4
 },
 "nbformat": 4,
 "nbformat_minor": 2
}
