{
 "cells": [
  {
   "cell_type": "markdown",
   "metadata": {},
   "source": [
    "# **Convolutional neural network architecture for geometric matching**\n",
    "\n",
    "**Authors: Ignacio Rocco  (IDI), Relja Arandjelovic (ENS), Josef Sivic (3CIIRC)**\n",
    "\n",
    "**Official Github**: https://github.com/ignacio-rocco/cnngeometric_pytorch\n",
    "\n",
    "---\n",
    "\n",
    "**Edited By Su Hyung Choi (Key Summary & Code Practice)**\n",
    "\n",
    "If you have any issues on this scripts, please PR to the repository below.\n",
    "\n",
    "**[Github: @JonyChoi - Computer Vision Paper Reviews]** https://github.com/jonychoi/Computer-Vision-Paper-Reviews\n",
    "\n",
    "Edited Jan 10 2022\n",
    "\n",
    "---"
   ]
  },
  {
   "cell_type": "markdown",
   "metadata": {},
   "source": [
    "### **Abstract**\n",
    "\n",
    "<table>\n",
    "    <thead>\n",
    "        <tr>\n",
    "            <th>\n",
    "                Abstract\n",
    "            </th>\n",
    "        </tr>\n",
    "    </thead>\n",
    "    <tbody>\n",
    "        <tr>\n",
    "            <td>\n",
    "                <i>\n",
    "                    We address the problem of determining correspondences\n",
    "                    between two images in agreement with a geometric model\n",
    "                    such as an affine or thin-plate spline transformation, and\n",
    "                    estimating its parameters. The contributions of this work\n",
    "                    are three-fold. First, we propose a convolutional neural network architecture for geometric matching. The architecture\n",
    "                    is based on three main components that mimic the standard\n",
    "                    steps of feature extraction, matching and simultaneous inlier detection and model parameter estimation, while being\n",
    "                    trainable end-to-end. Second, we demonstrate that the network parameters can be trained from synthetically generated imagery without the need for manual annotation and\n",
    "                    that our matching layer significantly increases generalization capabilities to never seen before images. Finally, we\n",
    "                    show that the same model can perform both instance-level\n",
    "                    and category-level matching giving state-of-the-art results\n",
    "                    on the challenging Proposal Flow dataset.\n",
    "                </i>\n",
    "            </td>\n",
    "        </tr>\n",
    "    </tbody>\n",
    "</table>"
   ]
  },
  {
   "cell_type": "markdown",
   "metadata": {},
   "source": []
  },
  {
   "cell_type": "markdown",
   "metadata": {},
   "source": []
  }
 ],
 "metadata": {
  "interpreter": {
   "hash": "f8574845d26991fb924b9b73a047d47daa16a02e6e1ac35bb3c12f8621974ea3"
  },
  "kernelspec": {
   "display_name": "Python 3.6.13 64-bit ('buddhalight3.6': conda)",
   "language": "python",
   "name": "python3"
  },
  "language_info": {
   "name": "python",
   "version": "3.6.13"
  },
  "orig_nbformat": 4
 },
 "nbformat": 4,
 "nbformat_minor": 2
}
